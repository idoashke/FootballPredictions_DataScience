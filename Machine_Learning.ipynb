{
 "cells": [
  {
   "cell_type": "code",
   "execution_count": 1,
   "metadata": {},
   "outputs": [],
   "source": [
    "import requests\n",
    "import json\n",
    "import pandas as pd\n",
    "from bs4 import BeautifulSoup\n",
    "from datetime import date\n",
    "import re\n",
    "import os\n",
    "import matplotlib as np\n",
    "from matplotlib import pyplot as plt\n",
    "from numpy import random\n",
    "#from scipy.stats import uniform\n",
    "import seaborn as sns\n",
    "%matplotlib inline\n",
    "#from scipy.stats import poisson,skellam\n",
    "from sklearn import metrics\n",
    "from sklearn.model_selection import train_test_split\n",
    "from sklearn.naive_bayes import GaussianNB\n",
    "from sklearn.linear_model import LogisticRegression\n"
   ]
  },
  {
   "cell_type": "code",
   "execution_count": 2,
   "metadata": {},
   "outputs": [],
   "source": [
    "def get_url_content(url):\n",
    "    url = \"https://www.transfermarkt.com\" + url\n",
    "    response = requests.get(url, headers={'User-Agent': 'Custom'})\n",
    "    return BeautifulSoup(response.content, 'html.parser')"
   ]
  },
  {
   "cell_type": "code",
   "execution_count": 3,
   "metadata": {},
   "outputs": [
    {
     "data": {
      "text/html": [
       "<style  type=\"text/css\" >\n",
       "    #T_4f65fd60_e3d2_11eb_9117_eccf54a3519f th {\n",
       "          text-align: left;\n",
       "    }#T_4f65fd60_e3d2_11eb_9117_eccf54a3519frow0_col0,#T_4f65fd60_e3d2_11eb_9117_eccf54a3519frow1_col0,#T_4f65fd60_e3d2_11eb_9117_eccf54a3519frow2_col0,#T_4f65fd60_e3d2_11eb_9117_eccf54a3519frow3_col0,#T_4f65fd60_e3d2_11eb_9117_eccf54a3519frow4_col0{\n",
       "            text-align:  left;\n",
       "        }</style><table id=\"T_4f65fd60_e3d2_11eb_9117_eccf54a3519f\" ><thead>    <tr>        <th class=\"blank level0\" ></th>        <th class=\"col_heading level0 col0\" >Competition</th>    </tr></thead><tbody>\n",
       "                <tr>\n",
       "                        <th id=\"T_4f65fd60_e3d2_11eb_9117_eccf54a3519flevel0_row0\" class=\"row_heading level0 row0\" >0</th>\n",
       "                        <td id=\"T_4f65fd60_e3d2_11eb_9117_eccf54a3519frow0_col0\" class=\"data row0 col0\" >Bundesliga</td>\n",
       "            </tr>\n",
       "            <tr>\n",
       "                        <th id=\"T_4f65fd60_e3d2_11eb_9117_eccf54a3519flevel0_row1\" class=\"row_heading level0 row1\" >1</th>\n",
       "                        <td id=\"T_4f65fd60_e3d2_11eb_9117_eccf54a3519frow1_col0\" class=\"data row1 col0\" >Primier League</td>\n",
       "            </tr>\n",
       "            <tr>\n",
       "                        <th id=\"T_4f65fd60_e3d2_11eb_9117_eccf54a3519flevel0_row2\" class=\"row_heading level0 row2\" >2</th>\n",
       "                        <td id=\"T_4f65fd60_e3d2_11eb_9117_eccf54a3519frow2_col0\" class=\"data row2 col0\" >La Liga</td>\n",
       "            </tr>\n",
       "            <tr>\n",
       "                        <th id=\"T_4f65fd60_e3d2_11eb_9117_eccf54a3519flevel0_row3\" class=\"row_heading level0 row3\" >3</th>\n",
       "                        <td id=\"T_4f65fd60_e3d2_11eb_9117_eccf54a3519frow3_col0\" class=\"data row3 col0\" >Seria A</td>\n",
       "            </tr>\n",
       "            <tr>\n",
       "                        <th id=\"T_4f65fd60_e3d2_11eb_9117_eccf54a3519flevel0_row4\" class=\"row_heading level0 row4\" >4</th>\n",
       "                        <td id=\"T_4f65fd60_e3d2_11eb_9117_eccf54a3519frow4_col0\" class=\"data row4 col0\" >Ligue 1</td>\n",
       "            </tr>\n",
       "    </tbody></table>"
      ],
      "text/plain": [
       "<pandas.io.formats.style.Styler at 0x29b0e58adf0>"
      ]
     },
     "metadata": {},
     "output_type": "display_data"
    },
    {
     "name": "stdout",
     "output_type": "stream",
     "text": [
      "Please choose the competition's number you want to learn: 0\n"
     ]
    },
    {
     "data": {
      "text/html": [
       "<style  type=\"text/css\" >\n",
       "    #T_5067baed_e3d2_11eb_80e3_eccf54a3519f th {\n",
       "          text-align: left;\n",
       "    }#T_5067baed_e3d2_11eb_80e3_eccf54a3519frow0_col0,#T_5067baed_e3d2_11eb_80e3_eccf54a3519frow1_col0,#T_5067baed_e3d2_11eb_80e3_eccf54a3519frow2_col0,#T_5067baed_e3d2_11eb_80e3_eccf54a3519frow3_col0,#T_5067baed_e3d2_11eb_80e3_eccf54a3519frow4_col0{\n",
       "            text-align:  left;\n",
       "        }</style><table id=\"T_5067baed_e3d2_11eb_80e3_eccf54a3519f\" ><thead>    <tr>        <th class=\"blank level0\" ></th>        <th class=\"col_heading level0 col0\" >Seasons</th>    </tr></thead><tbody>\n",
       "                <tr>\n",
       "                        <th id=\"T_5067baed_e3d2_11eb_80e3_eccf54a3519flevel0_row0\" class=\"row_heading level0 row0\" >0</th>\n",
       "                        <td id=\"T_5067baed_e3d2_11eb_80e3_eccf54a3519frow0_col0\" class=\"data row0 col0\" >19/20</td>\n",
       "            </tr>\n",
       "            <tr>\n",
       "                        <th id=\"T_5067baed_e3d2_11eb_80e3_eccf54a3519flevel0_row1\" class=\"row_heading level0 row1\" >1</th>\n",
       "                        <td id=\"T_5067baed_e3d2_11eb_80e3_eccf54a3519frow1_col0\" class=\"data row1 col0\" >18/19</td>\n",
       "            </tr>\n",
       "            <tr>\n",
       "                        <th id=\"T_5067baed_e3d2_11eb_80e3_eccf54a3519flevel0_row2\" class=\"row_heading level0 row2\" >2</th>\n",
       "                        <td id=\"T_5067baed_e3d2_11eb_80e3_eccf54a3519frow2_col0\" class=\"data row2 col0\" >17/18</td>\n",
       "            </tr>\n",
       "            <tr>\n",
       "                        <th id=\"T_5067baed_e3d2_11eb_80e3_eccf54a3519flevel0_row3\" class=\"row_heading level0 row3\" >3</th>\n",
       "                        <td id=\"T_5067baed_e3d2_11eb_80e3_eccf54a3519frow3_col0\" class=\"data row3 col0\" >16/17</td>\n",
       "            </tr>\n",
       "            <tr>\n",
       "                        <th id=\"T_5067baed_e3d2_11eb_80e3_eccf54a3519flevel0_row4\" class=\"row_heading level0 row4\" >4</th>\n",
       "                        <td id=\"T_5067baed_e3d2_11eb_80e3_eccf54a3519frow4_col0\" class=\"data row4 col0\" >15/16</td>\n",
       "            </tr>\n",
       "    </tbody></table>"
      ],
      "text/plain": [
       "<pandas.io.formats.style.Styler at 0x29b0e69ae20>"
      ]
     },
     "metadata": {},
     "output_type": "display_data"
    },
    {
     "name": "stdout",
     "output_type": "stream",
     "text": [
      "Please choose the season's number you want to learn: 0\n"
     ]
    }
   ],
   "source": [
    "#### Competitions table #####\n",
    "%store -z ## To delete all stored variables from storage\n",
    "\n",
    "#Competitions = [\"Bundesliga\", \"Primier League\", \"La Liga\", \"Seria A\", \"Ligue 1\", \"Liga NOS\",\n",
    "#               \"Champions League\", \"Europa League\", \"FIFA World Cup\", \"Euro\", \"WORLD CUP QUALIFICATION EUROPE\",\n",
    "#               \"INTERNATIONAL FRIENDLIES\", \"UEFA NATIONS LEAGUE\", \"COPA AMÉRICA\"]\n",
    "\n",
    "Competitions = [\"Bundesliga\", \"Primier League\", \"La Liga\", \"Seria A\", \"Ligue 1\"]\n",
    "\n",
    "competitions_df = pd.DataFrame(Competitions, columns = ['Competition'])\n",
    "competitions_df = competitions_df.style.set_properties(**{'text-align': 'left'})\n",
    "competitions_df = competitions_df.set_table_styles([dict(selector = 'th', props=[('text-align', 'left')])])\n",
    "\n",
    "#competitions_df\n",
    "display(competitions_df)\n",
    "competition_to_learn_num = int(input(\"Please choose the competition's number you want to learn: \"))\n",
    "\n",
    "\n",
    "Seasons = [\"19/20\", \"18/19\", \"17/18\", \"16/17\", \"15/16\"]\n",
    "\n",
    "seasons_df = pd.DataFrame(Seasons, columns = ['Seasons'])\n",
    "seasons_df = seasons_df.style.set_properties(**{'text-align': 'left'})\n",
    "seasons_df = seasons_df.set_table_styles([dict(selector = 'th', props=[('text-align', 'left')])])\n",
    "\n",
    "#competitions_df\n",
    "display(seasons_df)\n",
    "season_to_learn_num = int(input(\"Please choose the season's number you want to learn: \"))\n",
    "\n"
   ]
  },
  {
   "cell_type": "code",
   "execution_count": 4,
   "metadata": {},
   "outputs": [],
   "source": [
    "#### Switcher to get the chosen competition's url #####\n",
    "\n",
    "def competition_switcher(x):\n",
    "    switcher = {\n",
    "        0: [\"bundesliga\",\"L1\"],  #0: \"\",        #Bundesliga\n",
    "        1: [\"premier-league\",\"GB1\"],        #Primier League\n",
    "        2: [\"laliga\",\"ES1\"],        #La Liga\n",
    "        3: [\"serie-a\",\"IT1\"],        #Seria A\n",
    "        4: [\"ligue-1\",\"FR1\"]        #Ligue 1\n",
    "    }\n",
    "    return switcher.get(x, \"Invalid Competiton Number\")\n",
    "\n",
    "def season_switcher(x):\n",
    "    switcher = {\n",
    "        0: '2019',   #19/20\n",
    "        1: '2018',   #18/19\n",
    "        2: '2017',   #17/18\n",
    "        3: '2016',   #16/17\n",
    "        4: '2015'    #15/16\n",
    "    }\n",
    "    return switcher.get(x, \"Invalid Season Number\")\n"
   ]
  },
  {
   "cell_type": "code",
   "execution_count": 5,
   "metadata": {},
   "outputs": [],
   "source": [
    "#### Get the chosen competition's page #####\n",
    "    \n",
    "competition_comps = competition_switcher(competition_to_learn_num)\n",
    "season_year = season_switcher(season_to_learn_num)\n",
    "\n",
    "competition_url = \"https://www.transfermarkt.com/\" + competition_comps[0] + \"/spieltagtabelle/wettbewerb/\" + competition_comps[1] + \"?saison_id=\" + season_year + \"&spieltag=1\"\n",
    "\n",
    "response = requests.get(competition_url, headers={'User-Agent': 'Custom'})\n",
    "competition_url_content = BeautifulSoup(response.content, 'html.parser')"
   ]
  },
  {
   "cell_type": "code",
   "execution_count": 6,
   "metadata": {},
   "outputs": [
    {
     "name": "stdout",
     "output_type": "stream",
     "text": [
      "https://www.transfermarkt.com/bundesliga/tabelle/wettbewerb/L1/saison_id/2019\n"
     ]
    }
   ],
   "source": [
    "#### Get teams url #####\n",
    "\n",
    "competition_url = \"https://www.transfermarkt.com/\" + competition_comps[0] + \"/tabelle/wettbewerb/\" + competition_comps[1] + \"/saison_id/\" + season_year\n",
    "\n",
    "response = requests.get(competition_url, headers={'User-Agent': 'Custom'})\n",
    "competition_url_content = BeautifulSoup(response.content, 'html.parser')\n",
    "print(competition_url)\n",
    "teams_url_comps = []\n",
    "\n",
    "a = competition_url_content.find(\"div\", class_= \"responsive-table\").find(\"table\").find(\"tbody\")\n",
    "\n",
    "for tr in a.findAll(\"tr\"):\n",
    "    temp = tr.find(\"td\", class_= \"no-border-links hauptlink\").find(\"a\", class_= \"vereinprofil_tooltip\")\n",
    "    #temp = tr.find(\"td\", class_= \"no-border-links hauptlink\")\n",
    "    team_name = temp.get_text(strip=True)\n",
    "    team_full_link = temp.get('href')\n",
    "    team_partitioned_link = team_full_link.partition('/')\n",
    "    team_partitioned_link = team_partitioned_link[2]\n",
    "    team_partitioned_link = team_partitioned_link.partition('/')\n",
    "    team_url_name = team_partitioned_link[0]\n",
    "    team_id = temp.get(\"id\")\n",
    "    teams_url_comps.append(tuple([team_name, team_url_name,team_id]))"
   ]
  },
  {
   "cell_type": "code",
   "execution_count": 7,
   "metadata": {},
   "outputs": [],
   "source": [
    "#### Get teams market values #####\n",
    "\n",
    "teams_values_url = \"https://www.transfermarkt.com/\" + competition_comps[0] + \"/marktwerteverein/wettbewerb/\" + competition_comps[1] + \"/plus/?stichtag=\" + season_year + \"-09-01\"\n",
    "\n",
    "response = requests.get(teams_values_url, headers={'User-Agent': 'Custom'})\n",
    "teams_values_url_content = BeautifulSoup(response.content, 'html.parser')\n",
    "\n",
    "teams_stats_sum = []\n",
    "\n",
    "for each_tuple in teams_url_comps:\n",
    "    team_name = each_tuple[0]\n",
    "    teams_values_url = \"https://www.transfermarkt.com/\" + each_tuple[1] + \"/kader/verein/\" + each_tuple[2] + \"/plus/0/galerie/0?saison_id=\" + season_year\n",
    "    response = requests.get(teams_values_url, headers={'User-Agent': 'Custom'})\n",
    "    teams_values_url_content = BeautifulSoup(response.content, 'html.parser')\n",
    "    \n",
    "    a = teams_values_url_content.find(\"div\", class_= \"large-4 columns\").find(\"div\", class_= \"box\").find(\"table\").find(\"tfoot\").find(\"tr\")\n",
    "    td_list = a.findAll(\"td\")\n",
    "    team_value = td_list[2].get_text(strip=True)\n",
    "    team_value_final = float(re.search(r'\\d+\\.\\d+', team_value).group())\n",
    "    if 'm' in team_value.lower():\n",
    "        team_value_final *= 1000000 \n",
    "    elif 'b' in team_value.lower():\n",
    "        team_value_final *= 1000000000\n",
    "    team_value_final = int(team_value_final)\n",
    "    teams_stats_sum.append([team_name, team_value_final, 0, 0, 0, 0, 0, each_tuple[2]])\n",
    "\n",
    "while len(teams_stats_sum) < 20:\n",
    "    teams_stats_sum.append([0, 0, 0, 0, 0, 0, 0, 0])\n",
    "    \n",
    "# (team_name, team_value, current_position, home_games_results, away_games_results, home_games_counter, away_games_counter, team_id)"
   ]
  },
  {
   "cell_type": "code",
   "execution_count": 8,
   "metadata": {},
   "outputs": [],
   "source": [
    "#### Switcher to get the team index in the tuples array #####\n",
    "\n",
    "def team_index_switcher(x):\n",
    "    switcher = {\n",
    "        teams_stats_sum[0][0]: 0,\n",
    "        teams_stats_sum[1][0]: 1,\n",
    "        teams_stats_sum[2][0]: 2,\n",
    "        teams_stats_sum[3][0]: 3,\n",
    "        teams_stats_sum[4][0]: 4,\n",
    "        teams_stats_sum[5][0]: 5,\n",
    "        teams_stats_sum[6][0]: 6,\n",
    "        teams_stats_sum[7][0]: 7,\n",
    "        teams_stats_sum[8][0]: 8,\n",
    "        teams_stats_sum[9][0]: 9,\n",
    "        teams_stats_sum[10][0]: 10,\n",
    "        teams_stats_sum[11][0]: 11,\n",
    "        teams_stats_sum[12][0]: 12,\n",
    "        teams_stats_sum[13][0]: 13,\n",
    "        teams_stats_sum[14][0]: 14,\n",
    "        teams_stats_sum[15][0]: 15,\n",
    "        teams_stats_sum[16][0]: 16,\n",
    "        teams_stats_sum[17][0]: 17,\n",
    "        teams_stats_sum[18][0]: 18,\n",
    "        teams_stats_sum[19][0]: 19\n",
    "\n",
    "    }\n",
    "    return switcher.get(x, \"Invalid Index Number\")"
   ]
  },
  {
   "cell_type": "code",
   "execution_count": 9,
   "metadata": {
    "scrolled": true
   },
   "outputs": [
    {
     "name": "stdout",
     "output_type": "stream",
     "text": [
      "Please wait, this may take a few minutes...\n"
     ]
    }
   ],
   "source": [
    "#### Get all season matches results ####\n",
    "    \n",
    "season_matches_results_url = \"https://www.transfermarkt.com/\" + competition_comps[0] + \"/gesamtspielplan/wettbewerb/\" + competition_comps[1] + \"/saison_id/\" + season_year\n",
    "response = requests.get(season_matches_results_url, headers={'User-Agent': 'Custom'})\n",
    "season_matches_results_url_content = BeautifulSoup(response.content, 'html.parser')    \n",
    "\n",
    "base_url = \"https://www.transfermarkt.com\"\n",
    "df_train_rows = []\n",
    "df_target_rows = []\n",
    "\n",
    "print(\"Please wait, this may take a few minutes...\")\n",
    "\n",
    "for each_matchday in season_matches_results_url_content.findAll(\"div\", class_= \"large-6 columns\"):\n",
    "    curr_matchday_table = each_matchday.find(\"table\")\n",
    "    if curr_matchday_table != None:\n",
    "        curr_matchday_tbody = curr_matchday_table.find(\"tbody\")\n",
    "        for each_row in curr_matchday_tbody.findAll(\"tr\", class_=None): #(\"tr\")\n",
    "            home_team_points = 0\n",
    "            away_team_points = 0\n",
    "            last_matches_between_teams_url = base_url\n",
    "            \n",
    "            for game_result in each_row.findAll(\"td\", class_= \"zentriert hauptlink\"):\n",
    "                res = game_result.find(\"a\", class_= \"ergebnis-link\").get_text(strip=True)\n",
    "                res = res.partition(':')\n",
    "                home_team_goals = int(re.search(r'\\d+', res[0]).group())\n",
    "                away_team_goals = int(re.search(r'\\d+', res[2]).group())\n",
    "                if home_team_goals > away_team_goals:\n",
    "                    home_team_points = 2\n",
    "                    df_target_rows.append(2)\n",
    "                elif home_team_goals < away_team_goals:\n",
    "                    away_team_points = 2\n",
    "                    df_target_rows.append(0)\n",
    "                else:\n",
    "                    home_team_points = 1\n",
    "                    away_team_points = 1\n",
    "                    df_target_rows.append(1)\n",
    "                last_matches_between_teams_url += game_result.find(\"a\", class_= \"ergebnis-link\").get('href')\n",
    "            \n",
    "            for home_team_stats in each_row.findAll(\"td\", class_= \"text-right no-border-rechts hauptlink\"):\n",
    "                home_team_position = home_team_stats.find(\"span\", class_= \"tabellenplatz\").get_text(strip=True)\n",
    "                home_team_position = int(re.search(r'\\d+', home_team_position).group())\n",
    "                home_team_name = home_team_stats.find(\"a\", class_= \"vereinprofil_tooltip\").get_text(strip=True)\n",
    "                switcher_home_num = team_index_switcher(home_team_name)\n",
    "                try:      # to prevent divide by zero\n",
    "                    home_team_curr_points =  teams_stats_sum[switcher_home_num][3] / teams_stats_sum[switcher_home_num][5]\n",
    "                except:\n",
    "                    home_team_curr_points = 0\n",
    "\n",
    "                teams_stats_sum[switcher_home_num][2] = home_team_position\n",
    "                teams_stats_sum[switcher_home_num][5] += 1\n",
    "                teams_stats_sum[switcher_home_num][3] += home_team_points\n",
    "                #print(teams_stats_sum[switcher_home_num])\n",
    "                \n",
    "            for away_team_stats in each_row.findAll(\"td\", class_= \"no-border-links hauptlink\"): #away team\n",
    "                away_team_position = away_team_stats.find(\"span\", class_= \"tabellenplatz\").get_text(strip=True)\n",
    "                away_team_position = int(re.search(r'\\d+', away_team_position).group())\n",
    "                away_team_name = away_team_stats.find(\"a\", class_= \"vereinprofil_tooltip\").get_text(strip=True)\n",
    "                switcher_away_num = team_index_switcher(away_team_name)\n",
    "                try:      # to prevent divide by zero\n",
    "                    away_team_curr_points = teams_stats_sum[switcher_away_num][4] / teams_stats_sum[switcher_away_num][6]\n",
    "                except:\n",
    "                    away_team_curr_points = 0   \n",
    "                \n",
    "                teams_stats_sum[switcher_away_num][2] = away_team_position\n",
    "                teams_stats_sum[switcher_away_num][6] += 1\n",
    "                teams_stats_sum[switcher_away_num][4] += away_team_points\n",
    "                #print(teams_stats_sum[switcher_away_num])\n",
    "                #print(\"---------------------------\")\n",
    "            \n",
    "            last_matches_between_teams_url = re.sub('/index/', '/vorbericht/', last_matches_between_teams_url)\n",
    "            response = requests.get(last_matches_between_teams_url, headers={'User-Agent': 'Custom'})\n",
    "            last_matches_between_teams_url_content = BeautifulSoup(response.content, 'html.parser')\n",
    "            \n",
    "            last_matches_between_teams = last_matches_between_teams_url_content.find(\"div\", class_=\"table-header\",\n",
    "                          text=re.compile('Last')).find_parent(\"div\", class_=\"box\")\n",
    "            \n",
    "            \n",
    "            curr_match_home_team_points = 0\n",
    "            curr_match_away_team_points = 0\n",
    "            match_results = last_matches_between_teams.find(\"tbody\")\n",
    "            for each_match_result in match_results.findAll(\"tr\"):\n",
    "                curr_match_competition = each_match_result.find(\"td\", class_= \"zentriert\").find('img').get('title') # want to get only league games\n",
    "                curr_match_competition = curr_match_competition.partition('.')[0]\n",
    "                if curr_match_competition.lower() == competition_comps[1].lower():\n",
    "                    temp = each_match_result.find(\"td\", class_=\"no-border-links\")\n",
    "                    curr_home_team_id = temp.find(\"a\")['id']    #temp.get(\"id\")\n",
    "                    home_team_id = teams_stats_sum[switcher_home_num][7]\n",
    "                \n",
    "                    if home_team_id == curr_home_team_id:\n",
    "                        curr_match_res = each_match_result.find(\"a\", title=\"Match report\", class_=\"ergebnis-link\").get_text(strip=True)\n",
    "                        curr_match_res = curr_match_res.partition(':')\n",
    "                        curr_match_home_team_goals = int(re.search(r'\\d+', curr_match_res[0]).group())\n",
    "                        curr_match_away_team_goals = int(re.search(r'\\d+', curr_match_res[2]).group())\n",
    "                        if curr_match_home_team_goals > curr_match_away_team_goals:\n",
    "                            curr_match_home_team_points += 2\n",
    "                        elif curr_match_home_team_goals < curr_match_away_team_goals:\n",
    "                            curr_match_away_team_points += 2\n",
    "                        else:\n",
    "                            curr_match_home_team_points += 1\n",
    "                            curr_match_away_team_points += 1\n",
    "\n",
    "            \n",
    "            ### df columns building ###\n",
    "            \n",
    "            last_matches_between_teams_results = curr_match_home_team_points - curr_match_away_team_points\n",
    "            positions = teams_stats_sum[switcher_away_num][2] - teams_stats_sum[switcher_home_num][2]\n",
    "            values = teams_stats_sum[switcher_home_num][1] / teams_stats_sum[switcher_away_num][1]\n",
    "\n",
    "            last_each_team_results = home_team_curr_points - away_team_curr_points\n",
    "            df_train_rows.append(tuple([values, positions, last_each_team_results, last_matches_between_teams_results]))"
   ]
  },
  {
   "cell_type": "code",
   "execution_count": 10,
   "metadata": {
    "scrolled": true
   },
   "outputs": [],
   "source": [
    "##### Train df #####\n",
    "\n",
    "df_train = pd.DataFrame(df_train_rows, columns = ['Values', 'Positions', \"Last teams results\", 'Last results between teams'])\n",
    "df_train = df_train.style.set_properties(**{'text-align': 'left'})\n",
    "\n",
    "df_train = df_train.set_table_styles([dict(selector = 'th', props=[('text-align', 'left')])])\n",
    "\n",
    "#display(df_train)\n"
   ]
  },
  {
   "cell_type": "code",
   "execution_count": 11,
   "metadata": {},
   "outputs": [],
   "source": [
    "#### Target df #####\n",
    "\n",
    "df_target = pd.DataFrame(df_target_rows, columns = ['Match Result']) # 2- Home, 1- Draw, 0- Away\n",
    "df_target = df_target.style.set_properties(**{'text-align': 'left'})\n",
    "\n",
    "df_target = df_target.set_table_styles([dict(selector = 'th', props=[('text-align', 'left')])])\n",
    "\n",
    "#display(df_target)\n"
   ]
  },
  {
   "cell_type": "code",
   "execution_count": 12,
   "metadata": {},
   "outputs": [
    {
     "name": "stdout",
     "output_type": "stream",
     "text": [
      "Best test result=  LogisticRegression(random_state=0, solver='liblinear')\n"
     ]
    }
   ],
   "source": [
    "#### Logistic Regression ####\n",
    "lr_X = df_train_rows\n",
    "lr_y = df_target_rows\n",
    "lr_model = LogisticRegression(solver='liblinear', random_state=0)\n",
    "lr_model.fit(lr_X, lr_y)\n",
    "lr_model_test_results = metrics.accuracy_score(y_true = lr_y, y_pred = lr_model.predict(lr_X))\n",
    "#print('Logistic Regression - Accuracy on test data= ', metrics.accuracy_score(y_true = lr_y, y_pred = lr_model.predict(lr_X)))\n",
    "\n",
    "\n",
    "#### Naive Bayes ####\n",
    "\n",
    "nb_X = df_train_rows\n",
    "nb_y = df_target_rows\n",
    "XTrain, XTest, yTrain, yTest = train_test_split(nb_X, nb_y, random_state=1, test_size=0.3) ## 30% test 70% training\n",
    "\n",
    "nb_model = GaussianNB()\n",
    "nb_model.fit(XTrain,yTrain)\n",
    "\n",
    "y_pred = nb_model.predict(XTest) # results prediction\n",
    "y_pred_train = nb_model.predict(XTrain)\n",
    "\n",
    "nb_model_test_results = metrics.accuracy_score(y_true = yTest, y_pred = y_pred)\n",
    "#print('Naive Bayes - Accuracy on Train data= ', metrics.accuracy_score(y_true = yTrain, y_pred = y_pred_train))\n",
    "#print('Naive Bayes - Accuracy on test data= ', metrics.accuracy_score(y_true = yTest, y_pred = y_pred))\n",
    "\n",
    "#### Best ####\n",
    "#print('Logistic Regression test result= ', lr_model_test_results)\n",
    "#print('Naive Bayes test result= ', nb_model_test_results)\n",
    "if (lr_model_test_results > nb_model_test_results):\n",
    "    best_model = lr_model\n",
    "else:\n",
    "    best_model = nb_model\n",
    "print('Best test result= ', best_model)\n"
   ]
  },
  {
   "cell_type": "code",
   "execution_count": 13,
   "metadata": {},
   "outputs": [],
   "source": [
    "#### Switcher to choose ML algorithm #####\n",
    "\n",
    "def ml_algo_switcher(x):\n",
    "    switcher = {\n",
    "        0: best_model,    #Best\n",
    "        1: lr_model,      #Logistic Regression\n",
    "        2: nb_model       #Naive Bayes\n",
    "    }\n",
    "    return switcher.get(x, \"Invalid ML algorithm's number\")\n"
   ]
  },
  {
   "cell_type": "code",
   "execution_count": 14,
   "metadata": {},
   "outputs": [
    {
     "data": {
      "text/html": [
       "<style  type=\"text/css\" >\n",
       "    #T_ae76e1bf_e3d3_11eb_a6e7_eccf54a3519f th {\n",
       "          text-align: left;\n",
       "    }#T_ae76e1bf_e3d3_11eb_a6e7_eccf54a3519frow0_col0,#T_ae76e1bf_e3d3_11eb_a6e7_eccf54a3519frow1_col0,#T_ae76e1bf_e3d3_11eb_a6e7_eccf54a3519frow2_col0{\n",
       "            text-align:  left;\n",
       "        }</style><table id=\"T_ae76e1bf_e3d3_11eb_a6e7_eccf54a3519f\" ><thead>    <tr>        <th class=\"blank level0\" ></th>        <th class=\"col_heading level0 col0\" >ML_Algorithms</th>    </tr></thead><tbody>\n",
       "                <tr>\n",
       "                        <th id=\"T_ae76e1bf_e3d3_11eb_a6e7_eccf54a3519flevel0_row0\" class=\"row_heading level0 row0\" >0</th>\n",
       "                        <td id=\"T_ae76e1bf_e3d3_11eb_a6e7_eccf54a3519frow0_col0\" class=\"data row0 col0\" >Best</td>\n",
       "            </tr>\n",
       "            <tr>\n",
       "                        <th id=\"T_ae76e1bf_e3d3_11eb_a6e7_eccf54a3519flevel0_row1\" class=\"row_heading level0 row1\" >1</th>\n",
       "                        <td id=\"T_ae76e1bf_e3d3_11eb_a6e7_eccf54a3519frow1_col0\" class=\"data row1 col0\" >Logistic Regression</td>\n",
       "            </tr>\n",
       "            <tr>\n",
       "                        <th id=\"T_ae76e1bf_e3d3_11eb_a6e7_eccf54a3519flevel0_row2\" class=\"row_heading level0 row2\" >2</th>\n",
       "                        <td id=\"T_ae76e1bf_e3d3_11eb_a6e7_eccf54a3519frow2_col0\" class=\"data row2 col0\" >Naive Bayes</td>\n",
       "            </tr>\n",
       "    </tbody></table>"
      ],
      "text/plain": [
       "<pandas.io.formats.style.Styler at 0x29b0e95a3d0>"
      ]
     },
     "metadata": {},
     "output_type": "display_data"
    },
    {
     "name": "stdout",
     "output_type": "stream",
     "text": [
      "Please choose the ML algorithm's number you want to use: 0\n",
      "Stored 'chosen_model' (LogisticRegression)\n",
      "LogisticRegression(random_state=0, solver='liblinear')\n"
     ]
    }
   ],
   "source": [
    "#### ML algorithm choise #####\n",
    "\n",
    "ML_Algotihms = [\"Best\", \"Logistic Regression\", \"Naive Bayes\"]\n",
    "\n",
    "\n",
    "ml_algorithm_df = pd.DataFrame(ML_Algotihms, columns = ['ML_Algorithms'])\n",
    "ml_algorithm_df = ml_algorithm_df.style.set_properties(**{'text-align': 'left'})\n",
    "\n",
    "ml_algorithm_df = ml_algorithm_df.set_table_styles([dict(selector = 'th', props=[('text-align', 'left')])])\n",
    "\n",
    "\n",
    "display(ml_algorithm_df)\n",
    "\n",
    "chosen_ml_algorithm_num = int(input(\"Please choose the ML algorithm's number you want to use: \"))\n",
    "\n",
    "chosen_model = ml_algo_switcher(chosen_ml_algorithm_num)\n",
    "%store chosen_model\n",
    "print(chosen_model)"
   ]
  },
  {
   "cell_type": "code",
   "execution_count": 15,
   "metadata": {},
   "outputs": [
    {
     "data": {
      "image/png": "[encoded data removed]",
      "text/plain": [
       "<Figure size 432x288 with 2 Axes>"
      ]
     },
     "metadata": {
      "needs_background": "light"
     },
     "output_type": "display_data"
    },
    {
     "name": "stdout",
     "output_type": "stream",
     "text": [
      "Logistic Regression - Accuracy on test data=  0.6699346405228758\n"
     ]
    },
    {
     "data": {
      "image/png": "[encoded data removed]",
      "text/plain": [
       "<Figure size 432x288 with 2 Axes>"
      ]
     },
     "metadata": {
      "needs_background": "light"
     },
     "output_type": "display_data"
    },
    {
     "name": "stdout",
     "output_type": "stream",
     "text": [
      "Naive Bayes - Accuracy on Train data=  0.5700934579439252\n",
      "Naive Bayes - Accuracy on test data=  0.6413043478260869\n"
     ]
    }
   ],
   "source": [
    "#### Visualizing Confusion Matrix using Heatmap ####\n",
    "import numpy as np\n",
    "import matplotlib.pyplot as plt\n",
    "import seaborn as sns\n",
    "\n",
    "\n",
    "lr_cnf_matrix = metrics.confusion_matrix(lr_y, lr_model.predict(lr_X))\n",
    "nb_cnf_matrix = metrics.confusion_matrix(yTest, y_pred)\n",
    "\n",
    "\n",
    "class_names=[0,1,2] # name  of classes\n",
    "fig, ax = plt.subplots()\n",
    "tick_marks = np.arange(len(class_names))\n",
    "plt.xticks(tick_marks, class_names)\n",
    "plt.yticks(tick_marks, class_names)\n",
    "\n",
    "# create heatmap for lr_cnf_matrix (Logistic Regression)\n",
    "sns.heatmap(pd.DataFrame(lr_cnf_matrix), annot=True, cmap=\"YlGnBu\" ,fmt='g')\n",
    "ax.xaxis.set_label_position(\"top\")\n",
    "plt.tight_layout()\n",
    "plt.title('Logistic Regression Confusion matrix', y=1.1)\n",
    "plt.ylabel('Actual label')\n",
    "plt.xlabel('Predicted label')\n",
    "plt.show()\n",
    "print('Logistic Regression - Accuracy on test data= ', lr_model_test_results)\n",
    "#print('Logistic Regression - Accuracy on test data= ', metrics.accuracy_score(y_true = lr_y, y_pred = lr_model.predict(lr_X)))\n",
    "\n",
    "# create heatmap for nb_cnf_matrix (Naive Bayes)\n",
    "sns.heatmap(pd.DataFrame(nb_cnf_matrix), annot=True, cmap=\"YlGnBu\" ,fmt='g')\n",
    "ax.xaxis.set_label_position(\"top\")\n",
    "plt.tight_layout()\n",
    "plt.title('Naive Bayes Confusion matrix', y=1.1)\n",
    "plt.ylabel('Actual label')\n",
    "plt.xlabel('Predicted label')\n",
    "plt.show()\n",
    "print('Naive Bayes - Accuracy on Train data= ', metrics.accuracy_score(y_true = yTrain, y_pred = y_pred_train))\n",
    "print('Naive Bayes - Accuracy on test data= ', nb_model_test_results)\n",
    "#print('Naive Bayes - Accuracy on test data= ', metrics.accuracy_score(y_true = yTest, y_pred = y_pred))\n",
    "\n",
    "\n",
    "# on the first heat map we can see that 97,2, 106 are actual predictions, while the rest are incorrect predictions.\n",
    "# we can see that with the Logistic Regression model, from 306 matches we successfully predicted 205 right results\n",
    "# and 101 wrong. Accuracy of  0.669 (67%)\n",
    "\n",
    "\n",
    "# on the first heat map we can see that 29,2, 28 are actual predictions, while the rest are incorrect predictions.\n",
    "# we can see that with the Naive Bayes model, from 92 matches we successfully predicted 59 right results\n",
    "# and 33 wrong. Accuracy of  0.641 (64%)"
   ]
  }
 ],
 "metadata": {
  "kernelspec": {
   "display_name": "Python 3",
   "language": "python",
   "name": "python3"
  },
  "language_info": {
   "codemirror_mode": {
    "name": "ipython",
    "version": 3
   },
   "file_extension": ".py",
   "mimetype": "text/x-python",
   "name": "python",
   "nbconvert_exporter": "python",
   "pygments_lexer": "ipython3",
   "version": "3.8.5"
  }
 },
 "nbformat": 4,
 "nbformat_minor": 4
}
